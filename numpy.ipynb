{
 "cells": [
  {
   "cell_type": "code",
   "execution_count": 1,
   "metadata": {},
   "outputs": [
    {
     "name": "stdout",
     "output_type": "stream",
     "text": [
      "Element at index 0: 1\n",
      "Length of the array: 6\n",
      "Is 3 in array? False\n",
      "Elements in the array:\n",
      "1\n",
      "2\n",
      "4\n",
      "5\n",
      "6\n"
     ]
    }
   ],
   "source": [
    "import numpy as np\n",
    "arr = np.array([1, 2, 3, 4, 5])\n",
    "\n",
    "print(\"Element at index 0:\", arr[0])\n",
    "arr = np.append(arr, 6)\n",
    "print(\"Length of the array:\", len(arr))\n",
    "arr = np.delete(arr, 2)\n",
    "print(\"Is 3 in array?\", 3 in arr)\n",
    "print(\"Elements in the array:\")\n",
    "for element in arr:\n",
    "    print(element)\n"
   ]
  }
 ],
 "metadata": {
  "kernelspec": {
   "display_name": "Python 3",
   "language": "python",
   "name": "python3"
  },
  "language_info": {
   "codemirror_mode": {
    "name": "ipython",
    "version": 3
   },
   "file_extension": ".py",
   "mimetype": "text/x-python",
   "name": "python",
   "nbconvert_exporter": "python",
   "pygments_lexer": "ipython3",
   "version": "3.10.13"
  }
 },
 "nbformat": 4,
 "nbformat_minor": 2
}
