{
  "nbformat": 4,
  "nbformat_minor": 0,
  "metadata": {
    "colab": {
      "provenance": [],
      "authorship_tag": "ABX9TyN9ewZnIpJplrcXNppSqx8b",
      "include_colab_link": true
    },
    "kernelspec": {
      "name": "python3",
      "display_name": "Python 3"
    },
    "language_info": {
      "name": "python"
    }
  },
  "cells": [
    {
      "cell_type": "markdown",
      "metadata": {
        "id": "view-in-github",
        "colab_type": "text"
      },
      "source": [
        "<a href=\"https://colab.research.google.com/github/maheshboi/AIML-4/blob/main/assissgnment1_1.ipynb\" target=\"_parent\"><img src=\"https://colab.research.google.com/assets/colab-badge.svg\" alt=\"Open In Colab\"/></a>"
      ]
    },
    {
      "cell_type": "markdown",
      "source": [
        "## NUMPY"
      ],
      "metadata": {
        "id": "CoBG0Rf8ahTi"
      }
    },
    {
      "cell_type": "code",
      "execution_count": null,
      "metadata": {
        "id": "rRzPxMx9RetR"
      },
      "outputs": [],
      "source": [
        "import numpy as np\n",
        "arr = np.array([1, 2, 3, 4, 5])\n",
        "print(\"Element at index 0:\", arr[0])\n",
        "arr = np.append(arr, 6)\n",
        "print(\"Length of the array:\", len(arr))\n",
        "arr = np.delete(arr, 2)\n",
        "print(\"Is 3 in array?\", 3 in arr)\n",
        "print(\"Elements in the array:\")\n",
        "for element in arr:\n",
        "    print(element)\n"
      ]
    },
    {
      "cell_type": "code",
      "source": [
        "import pandas as pd\n",
        "series = pd.Series([1, 2, 3, 4, 5])\n",
        "print(\"Element at index 0:\", series[0])\n",
        "series = series.append(pd.Series([6]))\n",
        "print(\"Length of the series:\", len(series))\n",
        "series = series.drop(2)\n",
        "print(\"Is 3 in series?\", 3 in series.values)\n",
        "print(\"Elements in the series:\")\n",
        "for element in series:\n",
        "    print(element)\n"
      ],
      "metadata": {
        "colab": {
          "base_uri": "https://localhost:8080/"
        },
        "id": "tkDgOI0BacBU",
        "outputId": "084ece60-73f3-42cb-bba5-7bc0e9b78e67"
      },
      "execution_count": 2,
      "outputs": [
        {
          "output_type": "stream",
          "name": "stdout",
          "text": [
            "Element at index 0: 1\n",
            "Length of the series: 6\n",
            "Is 3 in series? False\n",
            "Elements in the series:\n",
            "1\n",
            "2\n",
            "4\n",
            "5\n",
            "6\n"
          ]
        },
        {
          "output_type": "stream",
          "name": "stderr",
          "text": [
            "<ipython-input-2-ace8bf3e80cf>:4: FutureWarning: The series.append method is deprecated and will be removed from pandas in a future version. Use pandas.concat instead.\n",
            "  series = series.append(pd.Series([6]))\n"
          ]
        }
      ]
    },
    {
      "cell_type": "code",
      "source": [
        "# prompt:\n",
        "\n",
        "# ## PANDAS\n",
        "df = pd.DataFrame({'Name': ['Alice', 'Bob', 'Claire'], 'Age': [20, 25, 30]})\n",
        "print(\"Element at index 0:\", df.iloc[0])\n",
        "df = df.append({'Name': 'David', 'Age': 35}, ignore_index=True)\n",
        "print(\"Length of the dataframe:\", len(df))\n",
        "df = df.drop(1)\n",
        "print(\"Is Bob in dataframe?\", 'Bob' in df['Name'].values)\n",
        "print(\"Elements in the dataframe:\")\n",
        "for index, row in df.iterrows():\n",
        "    print(row['Name'], row['Age'])\n"
      ],
      "metadata": {
        "id": "DjmTtCDwaPjz"
      },
      "execution_count": null,
      "outputs": []
    },
    {
      "cell_type": "code",
      "source": [
        "import pandas as pd\n",
        "my_array = pd.Series([1, 2, 3, 4, 5])\n",
        "print(\"Array:\")\n",
        "print(my_array)\n",
        "print(\"\\nAccessing elements:\")\n",
        "print(\"Element at index 0:\", my_array[0])\n",
        "print(\"Element at index 2:\", my_array[2])\n",
        "print(\"\\nSlicing:\")\n",
        "print(\"First three elements:\", my_array[:3])\n",
        "print(\"Last two elements:\", my_array[-2:])\n",
        "print(\"\\nModifying elements:\")\n",
        "my_array[1] = 10\n",
        "print(\"Modified array:\", my_array)\n",
        "print(\"\\nAppending elements:\")\n",
        "my_array = my_array.append(pd.Series([6]))\n",
        "print(\"Array after appending:\", my_array)\n",
        "print(\"\\nDeleting elements:\")\n",
        "my_array = my_array.drop(0)\n",
        "print(\"Array after deleting element at index 0:\", my_array)\n",
        "print(\"\\nLength of array:\", len(my_array))\n",
        "print(\"\\nChecking if an element exists:\")\n",
        "print(\"Is 5 in array?\", 5 in my_array)\n",
        "print(\"Is 7 in array?\", 7 in my_array)\n"
      ],
      "metadata": {
        "id": "Cmh47MsVgtLP"
      },
      "execution_count": null,
      "outputs": []
    },
    {
      "cell_type": "code",
      "source": [
        "import numpy as np\n",
        "arr = np.array([1, 2, 3, 4, 5])\n",
        "print(\"Type of array:\", type(arr))\n"
      ],
      "metadata": {
        "colab": {
          "base_uri": "https://localhost:8080/"
        },
        "id": "jGWJNjCyg45k",
        "outputId": "43075e38-e446-4aa0-f4f6-cf06208c9268"
      },
      "execution_count": 5,
      "outputs": [
        {
          "output_type": "stream",
          "name": "stdout",
          "text": [
            "Type of array: <class 'numpy.ndarray'>\n"
          ]
        }
      ]
    },
    {
      "cell_type": "code",
      "source": [
        "import numpy as np\n",
        "mat = np.array([[1, 2, 3], [4, 5, 6], [7, 8, 9]])\n",
        "print(\"Type of matrix:\", type(mat))\n"
      ],
      "metadata": {
        "colab": {
          "base_uri": "https://localhost:8080/"
        },
        "id": "7q8lVcNPhKlN",
        "outputId": "7289a740-3b85-45cb-9b4b-e660c05f710c"
      },
      "execution_count": 6,
      "outputs": [
        {
          "output_type": "stream",
          "name": "stdout",
          "text": [
            "Type of matrix: <class 'numpy.ndarray'>\n"
          ]
        }
      ]
    },
    {
      "cell_type": "code",
      "source": [
        "import numpy as np\n",
        "import pandas as pd\n",
        "numpy_array1 = np.array([1, 2, 3, 4, 5])\n",
        "numpy_array2 = np.array([6, 7, 8, 9, 10])\n",
        "pandas_series1 = pd.Series([1, 2, 3, 4, 5])\n",
        "pandas_series2 = pd.Series([6, 7, 8, 9, 10])\n",
        "print(\"NumPy Array Operations:\")\n",
        "print(\"Addition:\", numpy_array1 + numpy_array2)\n",
        "print(\"Subtraction:\", numpy_array1 - numpy_array2)\n",
        "print(\"Multiplication:\", numpy_array1 * numpy_array2)\n",
        "print(\"Division:\", numpy_array1 / numpy_array2)\n",
        "print(\"Power of:\", numpy_array1 ** numpy_array2)\n",
        "print(\"\\nPandas Series Operations:\")\n",
        "print(\"Addition:\", pandas_series1 + pandas_series2)\n",
        "print(\"Subtraction:\", pandas_series1 - pandas_series2)\n",
        "print(\"Multiplication:\", pandas_series1 * pandas_series2)\n",
        "print(\"Division:\", pandas_series1 / pandas_series2)\n",
        "print(\"Power of:\", pandas_series1 ** pandas_series2)\n"
      ],
      "metadata": {
        "id": "pJtCJCj3hYVN"
      },
      "execution_count": null,
      "outputs": []
    },
    {
      "cell_type": "code",
      "source": [
        "import numpy as np\n",
        "array1 = np.array([1, 2, 3])\n",
        "array2 = np.array([4, 5, 6])\n",
        "result = array1 + array2\n",
        "output_text = \"Addition of Two:\\narray1 + array2\\n\"\n",
        "print(output_text)\n",
        "print(result)\n"
      ],
      "metadata": {
        "id": "ZxLmTwg3hyyQ"
      },
      "execution_count": null,
      "outputs": []
    },
    {
      "cell_type": "code",
      "source": [
        "import numpy as np\n",
        "array1 = np.array([1, 2, 3, 4, 5])\n",
        "array2 = np.array([6, 7, 8, 9, 10])\n",
        "sum_array = array1 + array2\n",
        "difference_array = array2 - array1\n",
        "product_array = array1 * array2\n",
        "quotient_array = array2 / array1\n",
        "\n",
        "print(\"Sum of arrays:\", sum_array)\n",
        "print(\"Difference of arrays:\", difference_array)\n",
        "print(\"Product of arrays:\", product_array)\n",
        "print(\"Quotient of arrays:\", quotient_array)\n",
        "matrix1 = np.array([[1, 2, 3], [4, 5, 6]])\n",
        "matrix2 = np.array([[7, 8, 9], [10, 11, 12]])\n",
        "sum_matrix = matrix1 + matrix2\n",
        "difference_matrix = matrix2 - matrix1\n",
        "product_matrix = np.dot(matrix1, matrix2.T)\n",
        "print(\"\\nSum of matrices:\\n\", sum_matrix)\n",
        "print(\"Difference of matrices:\\n\", difference_matrix)\n",
        "print(\"Product of matrices:\\n\", product_matrix)\n",
        "array = np.array([0, 1, 2, 3, 4])"
      ],
      "metadata": {
        "id": "aOacJP-riMid"
      },
      "execution_count": null,
      "outputs": []
    }
  ]
}