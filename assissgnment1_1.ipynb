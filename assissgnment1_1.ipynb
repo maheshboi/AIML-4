{
  "nbformat": 4,
  "nbformat_minor": 0,
  "metadata": {
    "colab": {
      "provenance": [],
      "authorship_tag": "ABX9TyN0i2it3+n6CCQmmPtbjEt0",
      "include_colab_link": true
    },
    "kernelspec": {
      "name": "python3",
      "display_name": "Python 3"
    },
    "language_info": {
      "name": "python"
    }
  },
  "cells": [
    {
      "cell_type": "markdown",
      "metadata": {
        "id": "view-in-github",
        "colab_type": "text"
      },
      "source": [
        "<a href=\"https://colab.research.google.com/github/maheshboi/AIML-4/blob/main/assissgnment1_1.ipynb\" target=\"_parent\"><img src=\"https://colab.research.google.com/assets/colab-badge.svg\" alt=\"Open In Colab\"/></a>"
      ]
    },
    {
      "cell_type": "markdown",
      "source": [
        "## NUMPY"
      ],
      "metadata": {
        "id": "CoBG0Rf8ahTi"
      }
    },
    {
      "cell_type": "code",
      "execution_count": null,
      "metadata": {
        "id": "rRzPxMx9RetR"
      },
      "outputs": [],
      "source": [
        "import numpy as np\n",
        "arr = np.array([1, 2, 3, 4, 5])\n",
        "print(\"Element at index 0:\", arr[0])\n",
        "arr = np.append(arr, 6)\n",
        "print(\"Length of the array:\", len(arr))\n",
        "arr = np.delete(arr, 2)\n",
        "print(\"Is 3 in array?\", 3 in arr)\n",
        "print(\"Elements in the array:\")\n",
        "for element in arr:\n",
        "    print(element)\n"
      ]
    },
    {
      "cell_type": "code",
      "source": [
        "import pandas as pd\n",
        "series = pd.Series([1, 2, 3, 4, 5])\n",
        "print(\"Element at index 0:\", series[0])\n",
        "series = series.append(pd.Series([6]))\n",
        "print(\"Length of the series:\", len(series))\n",
        "series = series.drop(2)\n",
        "print(\"Is 3 in series?\", 3 in series.values)\n",
        "print(\"Elements in the series:\")\n",
        "for element in series:\n",
        "    print(element)\n"
      ],
      "metadata": {
        "colab": {
          "base_uri": "https://localhost:8080/"
        },
        "id": "tkDgOI0BacBU",
        "outputId": "084ece60-73f3-42cb-bba5-7bc0e9b78e67"
      },
      "execution_count": 2,
      "outputs": [
        {
          "output_type": "stream",
          "name": "stdout",
          "text": [
            "Element at index 0: 1\n",
            "Length of the series: 6\n",
            "Is 3 in series? False\n",
            "Elements in the series:\n",
            "1\n",
            "2\n",
            "4\n",
            "5\n",
            "6\n"
          ]
        },
        {
          "output_type": "stream",
          "name": "stderr",
          "text": [
            "<ipython-input-2-ace8bf3e80cf>:4: FutureWarning: The series.append method is deprecated and will be removed from pandas in a future version. Use pandas.concat instead.\n",
            "  series = series.append(pd.Series([6]))\n"
          ]
        }
      ]
    },
    {
      "cell_type": "code",
      "source": [],
      "metadata": {
        "id": "DjmTtCDwaPjz"
      },
      "execution_count": null,
      "outputs": []
    }
  ]
}