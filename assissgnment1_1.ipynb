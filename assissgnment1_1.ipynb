{
  "nbformat": 4,
  "nbformat_minor": 0,
  "metadata": {
    "colab": {
      "provenance": [],
      "authorship_tag": "ABX9TyNI149Iso3Ps/+rVh9ACm/T",
      "include_colab_link": true
    },
    "kernelspec": {
      "name": "python3",
      "display_name": "Python 3"
    },
    "language_info": {
      "name": "python"
    }
  },
  "cells": [
    {
      "cell_type": "markdown",
      "metadata": {
        "id": "view-in-github",
        "colab_type": "text"
      },
      "source": [
        "<a href=\"https://colab.research.google.com/github/maheshboi/AIML-4/blob/main/assissgnment1_1.ipynb\" target=\"_parent\"><img src=\"https://colab.research.google.com/assets/colab-badge.svg\" alt=\"Open In Colab\"/></a>"
      ]
    },
    {
      "cell_type": "code",
      "execution_count": null,
      "metadata": {
        "id": "rRzPxMx9RetR"
      },
      "outputs": [],
      "source": [
        "import numpy as np\n",
        "arr = np.array([1, 2, 3, 4, 5])\n",
        "print(\"Element at index 0:\", arr[0])\n",
        "arr = np.append(arr, 6)\n",
        "print(\"Length of the array:\", len(arr))\n",
        "arr = np.delete(arr, 2)\n",
        "print(\"Is 3 in array?\", 3 in arr)\n",
        "print(\"Elements in the array:\")\n",
        "for element in arr:\n",
        "    print(element)\n"
      ]
    }
  ]
}